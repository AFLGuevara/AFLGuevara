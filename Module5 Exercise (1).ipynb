{
 "cells": [
  {
   "cell_type": "markdown",
   "metadata": {},
   "source": [
    "1. Round 4.5667 to the nearest hundreth using a build-in function, round()."
   ]
  },
  {
   "cell_type": "code",
   "execution_count": 1,
   "metadata": {},
   "outputs": [
    {
     "data": {
      "text/plain": [
       "4.57"
      ]
     },
     "execution_count": 1,
     "metadata": {},
     "output_type": "execute_result"
    }
   ],
   "source": [
    "round(4.5667,2)"
   ]
  },
  {
   "cell_type": "markdown",
   "metadata": {},
   "source": [
    "2. Convert \"657\" to an integer data type"
   ]
  },
  {
   "cell_type": "code",
   "execution_count": 4,
   "metadata": {},
   "outputs": [
    {
     "data": {
      "text/plain": [
       "657"
      ]
     },
     "execution_count": 4,
     "metadata": {},
     "output_type": "execute_result"
    }
   ],
   "source": [
    "int(657)"
   ]
  },
  {
   "cell_type": "markdown",
   "metadata": {},
   "source": [
    "3.\n",
    "Write a program to get two numbers from a user. Then, create a secret code where a code consists of 6 numbers and each number is randomly generated number between two numbers from a user. "
   ]
  },
  {
   "cell_type": "code",
   "execution_count": 14,
   "metadata": {},
   "outputs": [
    {
     "name": "stdout",
     "output_type": "stream",
     "text": [
      "Enter a first number: 4\n",
      "Enter a second number: 5\n",
      "The secret code is 5 4 5 5 5 4\n"
     ]
    }
   ],
   "source": [
    "import random as rand\n",
    "\n",
    "start_no = int(input(\"Enter a first number: \"))\n",
    "end_no = int(input(\"Enter a second number: \"))\n",
    "\n",
    "code1 = rand.randint(start_no, end_no)\n",
    "code2 = rand.randint(start_no, end_no)\n",
    "code3 = rand.randint(start_no, end_no)\n",
    "code4 = rand.randint(start_no, end_no)\n",
    "code5 = rand.randint(start_no, end_no)\n",
    "code6 = rand.randint(start_no, end_no)\n",
    "\n",
    "print(f\"The secret code is {code1} {code2} {code3} {code4} {code5} {code6}\")"
   ]
  },
  {
   "cell_type": "markdown",
   "metadata": {},
   "source": [
    "4.\n",
    "Write a program to center align below text where number of characters per line is 40:\n",
    "\n",
    "    Hickory, dickory, dock,\n",
    "    The mouse ran up the clock.\n",
    "    The clock struck one,\n",
    "    The mouse ran down,\n",
    "    Hickory, dickory, dock\n",
    "\n",
    "<b>Do not use string's center method! </b>"
   ]
  },
  {
   "cell_type": "code",
   "execution_count": 15,
   "metadata": {},
   "outputs": [
    {
     "name": "stdout",
     "output_type": "stream",
     "text": [
      "1234567890123456789012345678901234567890\n",
      "        Hickory, dickory, dock,        \n",
      "      The mouse ran up the clock.      \n",
      "         The clock struck one,         \n",
      "          The mouse ran down,          \n",
      "         Hickory, dickory, dock         \n"
     ]
    }
   ],
   "source": [
    "line1 = \"Hickory, dickory, dock,\"              # copied from module 5 answers page\n",
    "line2 = \"The mouse ran up the clock.\"\n",
    "line3 = \"The clock struck one,\"\n",
    "line4 = \"The mouse ran down,\"\n",
    "line5 = \"Hickory, dickory, dock\"\n",
    "\n",
    "MAX_CHAR = 40\n",
    "DELIM = ' '\n",
    "print(\"1234567890123456789012345678901234567890\")\n",
    "\n",
    "line1 = line1.strip()\n",
    "diff = MAX_CHAR - len(line1)\n",
    "padding = DELIM * int(diff/2)\n",
    "print(f\"{padding}{line1}{padding}\")\n",
    "\n",
    "line2 = line2.strip()\n",
    "diff = MAX_CHAR - len(line2)\n",
    "padding = DELIM * int(diff/2)\n",
    "print(f\"{padding}{line2}{padding}\")\n",
    "\n",
    "line3 = line3.strip()\n",
    "diff = MAX_CHAR - len(line3)\n",
    "padding = DELIM * int(diff/2)       \n",
    "print(f\"{padding}{line3}{padding}\")\n",
    "\n",
    "line4 = line4.strip()\n",
    "diff = MAX_CHAR - len(line4)\n",
    "padding = DELIM * int(diff/2)\n",
    "print(f\"{padding}{line4}{padding}\")\n",
    "\n",
    "line5 = line5.strip()\n",
    "diff = MAX_CHAR - len(line5)\n",
    "padding = DELIM * int(diff/2)\n",
    "print(f\"{padding}{line5}{padding}\")"
   ]
  },
  {
   "cell_type": "markdown",
   "metadata": {},
   "source": [
    "5. Write a function to calculate the miles per gallon.\n",
    "Get a miles driven and gallons used from a user and call your function to calculate the miles per gallon. "
   ]
  },
  {
   "cell_type": "code",
   "execution_count": 21,
   "metadata": {},
   "outputs": [
    {
     "name": "stdout",
     "output_type": "stream",
     "text": [
      "Enter a first number: 30\n",
      "Enter a second number: 5\n",
      "6.0\n"
     ]
    }
   ],
   "source": [
    "miles = int(input(\"Enter a first number: \"))\n",
    "gallons = int(input(\"Enter a second number: \"))\n",
    "print(miles/gallons)"
   ]
  }
 ],
 "metadata": {
  "kernelspec": {
   "display_name": "Python 3",
   "language": "python",
   "name": "python3"
  },
  "language_info": {
   "codemirror_mode": {
    "name": "ipython",
    "version": 3
   },
   "file_extension": ".py",
   "mimetype": "text/x-python",
   "name": "python",
   "nbconvert_exporter": "python",
   "pygments_lexer": "ipython3",
   "version": "3.8.8"
  }
 },
 "nbformat": 4,
 "nbformat_minor": 4
}
