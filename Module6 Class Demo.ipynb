{
 "cells": [
  {
   "cell_type": "markdown",
   "metadata": {},
   "source": [
    "### Comparison Operators & Boolean Operators"
   ]
  },
  {
   "cell_type": "code",
   "execution_count": null,
   "metadata": {},
   "outputs": [],
   "source": [
    "123 < 123.0"
   ]
  },
  {
   "cell_type": "code",
   "execution_count": null,
   "metadata": {},
   "outputs": [],
   "source": [
    "123 >= 123.0"
   ]
  },
  {
   "cell_type": "code",
   "execution_count": null,
   "metadata": {},
   "outputs": [],
   "source": [
    "123 == 123.0"
   ]
  },
  {
   "cell_type": "code",
   "execution_count": null,
   "metadata": {},
   "outputs": [],
   "source": [
    "123 != 123.0"
   ]
  },
  {
   "cell_type": "code",
   "execution_count": null,
   "metadata": {},
   "outputs": [],
   "source": [
    "123 == True"
   ]
  },
  {
   "cell_type": "code",
   "execution_count": null,
   "metadata": {},
   "outputs": [],
   "source": [
    "\"123\" < 123"
   ]
  },
  {
   "cell_type": "code",
   "execution_count": null,
   "metadata": {},
   "outputs": [],
   "source": [
    "\"message\" < \"mess\""
   ]
  },
  {
   "cell_type": "code",
   "execution_count": null,
   "metadata": {},
   "outputs": [],
   "source": [
    "\"M\" < \"m\""
   ]
  },
  {
   "cell_type": "code",
   "execution_count": null,
   "metadata": {},
   "outputs": [],
   "source": [
    "\"Message\" < \"message\""
   ]
  },
  {
   "cell_type": "code",
   "execution_count": null,
   "metadata": {},
   "outputs": [],
   "source": [
    "\"Message\" < \"mess\""
   ]
  },
  {
   "cell_type": "code",
   "execution_count": null,
   "metadata": {},
   "outputs": [],
   "source": [
    "\"pie\" in \"apple pie\""
   ]
  },
  {
   "cell_type": "code",
   "execution_count": null,
   "metadata": {},
   "outputs": [],
   "source": [
    "\"in\" not in \"Be comfortable in uncertain situations\""
   ]
  },
  {
   "cell_type": "code",
   "execution_count": null,
   "metadata": {},
   "outputs": [],
   "source": [
    "\"Be comfortable in uncertain situations\".count(\"in\")"
   ]
  },
  {
   "cell_type": "code",
   "execution_count": null,
   "metadata": {},
   "outputs": [],
   "source": [
    "age = 5\n",
    "age == 18"
   ]
  },
  {
   "cell_type": "code",
   "execution_count": null,
   "metadata": {},
   "outputs": [],
   "source": [
    "qty = 10\n",
    "qty != 0"
   ]
  },
  {
   "cell_type": "code",
   "execution_count": null,
   "metadata": {},
   "outputs": [],
   "source": [
    "result = age == 18\n",
    "print(result)"
   ]
  },
  {
   "cell_type": "code",
   "execution_count": null,
   "metadata": {},
   "outputs": [],
   "source": [
    "age >= 65 and city == \"Gaithersburg\""
   ]
  },
  {
   "cell_type": "code",
   "execution_count": null,
   "metadata": {},
   "outputs": [],
   "source": [
    "print(city)"
   ]
  },
  {
   "cell_type": "code",
   "execution_count": null,
   "metadata": {},
   "outputs": [],
   "source": [
    "city = \"Gaithersburg\"\n",
    "state = \"MD\"\n",
    "\n",
    "age >= 65 or city == \"Gaithersburg\""
   ]
  },
  {
   "cell_type": "code",
   "execution_count": null,
   "metadata": {},
   "outputs": [],
   "source": [
    "age >= 65 and city == \"Gaithersburg\" or not result"
   ]
  },
  {
   "cell_type": "code",
   "execution_count": null,
   "metadata": {},
   "outputs": [],
   "source": [
    "False and True   # age >= 65 and city == \"Gaithersburg\""
   ]
  },
  {
   "cell_type": "code",
   "execution_count": null,
   "metadata": {},
   "outputs": [],
   "source": [
    "not result"
   ]
  },
  {
   "cell_type": "code",
   "execution_count": null,
   "metadata": {},
   "outputs": [],
   "source": [
    "False or True   # (age >= 65 and city == \"Gaithersburg\") or not result"
   ]
  },
  {
   "cell_type": "code",
   "execution_count": null,
   "metadata": {},
   "outputs": [],
   "source": [
    "age >= 65 and (city == \"Gaithersburg\" or not result)  # False and ?"
   ]
  },
  {
   "cell_type": "code",
   "execution_count": null,
   "metadata": {},
   "outputs": [],
   "source": [
    "print(city)"
   ]
  },
  {
   "cell_type": "code",
   "execution_count": null,
   "metadata": {},
   "outputs": [],
   "source": [
    "city.lower() == \"gaithersburg\""
   ]
  },
  {
   "cell_type": "code",
   "execution_count": null,
   "metadata": {},
   "outputs": [],
   "source": [
    "city.upper() == \"gaithersburg\".upper()"
   ]
  },
  {
   "cell_type": "code",
   "execution_count": null,
   "metadata": {},
   "outputs": [],
   "source": [
    "print(bool(\"\"))\n",
    "print(len(\"\"))"
   ]
  },
  {
   "cell_type": "code",
   "execution_count": null,
   "metadata": {},
   "outputs": [],
   "source": [
    "print(bool(len(\"\")))   # \n",
    "print(bool(0))"
   ]
  },
  {
   "cell_type": "code",
   "execution_count": null,
   "metadata": {},
   "outputs": [],
   "source": [
    "bool(1)"
   ]
  },
  {
   "cell_type": "code",
   "execution_count": null,
   "metadata": {},
   "outputs": [],
   "source": [
    "bool(\" \")"
   ]
  },
  {
   "cell_type": "code",
   "execution_count": null,
   "metadata": {},
   "outputs": [],
   "source": [
    "bool(\"abc\")"
   ]
  },
  {
   "cell_type": "code",
   "execution_count": null,
   "metadata": {},
   "outputs": [],
   "source": [
    "bool(None)"
   ]
  },
  {
   "cell_type": "code",
   "execution_count": null,
   "metadata": {},
   "outputs": [],
   "source": [
    "bool(123) == True"
   ]
  },
  {
   "cell_type": "code",
   "execution_count": null,
   "metadata": {},
   "outputs": [],
   "source": [
    "bool(\"\") != True"
   ]
  },
  {
   "cell_type": "markdown",
   "metadata": {},
   "source": [
    "### Bitwise Operators\n",
    "    &    :  and\n",
    "    |    :  or\n",
    "    ^    :  xor\n",
    "    ~    :  not\n",
    "    <<   :  shift to left\n",
    "    >>   :  shift to right "
   ]
  },
  {
   "cell_type": "code",
   "execution_count": null,
   "metadata": {},
   "outputs": [],
   "source": [
    "a = 49    # 0011 0001\n",
    "b = 19    # 0001 0011\n",
    "\n",
    "a & b"
   ]
  },
  {
   "cell_type": "code",
   "execution_count": null,
   "metadata": {},
   "outputs": [],
   "source": [
    "# convert integer to bits\n",
    "\n",
    "bin(17)    # 0001 0001"
   ]
  },
  {
   "cell_type": "code",
   "execution_count": null,
   "metadata": {},
   "outputs": [],
   "source": [
    "# or use string format to convert integer to bits\n",
    "\n",
    "binary = \"{0:b}\".format(17)\n",
    "print(binary)"
   ]
  },
  {
   "cell_type": "code",
   "execution_count": null,
   "metadata": {},
   "outputs": [],
   "source": [
    "# or use int() function\n",
    "# int( number to convert, base of the number)\n",
    "\n",
    "int('00010001', 2)"
   ]
  },
  {
   "cell_type": "code",
   "execution_count": null,
   "metadata": {},
   "outputs": [],
   "source": [
    "# a = 49    0011 0001\n",
    "# b = 19    0001 0011\n",
    "\n",
    "a | b      #0011 0011"
   ]
  },
  {
   "cell_type": "code",
   "execution_count": null,
   "metadata": {},
   "outputs": [],
   "source": [
    "int('00110011', 2)"
   ]
  },
  {
   "cell_type": "code",
   "execution_count": null,
   "metadata": {},
   "outputs": [],
   "source": [
    "# a = 49    0011 0001\n",
    "~a         #1100 1110"
   ]
  },
  {
   "cell_type": "code",
   "execution_count": null,
   "metadata": {},
   "outputs": [],
   "source": [
    "# but...\n",
    "\n",
    "int('11001110', 2)\n",
    "\n",
    "# what is going on?"
   ]
  },
  {
   "cell_type": "markdown",
   "metadata": {},
   "source": [
    "### Negative numbers in two's complement\n",
    "\n",
    "    1100 1110\n",
    "    1 100 1110\n",
    "    1 011 0001  = 2**5 + 2**4 + 2**0 = 32 + 16 + 1 = 49 \n",
    "    +        1  = 49 + 1 = 50 \n",
    "    -----------------------------\n",
    "    -50"
   ]
  },
  {
   "cell_type": "code",
   "execution_count": null,
   "metadata": {},
   "outputs": [],
   "source": [
    "# Looking at bits, it is impossible to determine whether it is a \n",
    "# negative number in two's complement or not.\n",
    "\n",
    "int('11001110', 2)"
   ]
  },
  {
   "cell_type": "code",
   "execution_count": null,
   "metadata": {},
   "outputs": [],
   "source": [
    "bin(-50)"
   ]
  },
  {
   "cell_type": "code",
   "execution_count": null,
   "metadata": {},
   "outputs": [],
   "source": [
    "int('110010', 2)"
   ]
  },
  {
   "cell_type": "code",
   "execution_count": null,
   "metadata": {},
   "outputs": [],
   "source": [
    "# a = 49    0011 0001\n",
    "\n",
    "\n",
    "#     001100010\n",
    "a << 1     #0110 0010"
   ]
  },
  {
   "cell_type": "code",
   "execution_count": null,
   "metadata": {},
   "outputs": [],
   "source": [
    "int('01100010', 2)"
   ]
  },
  {
   "cell_type": "code",
   "execution_count": null,
   "metadata": {},
   "outputs": [],
   "source": [
    "# a = 49            0011 0001\n",
    "print(a << 2)     #0011000100\n",
    "print(int('11000100', 2))"
   ]
  },
  {
   "cell_type": "code",
   "execution_count": null,
   "metadata": {},
   "outputs": [],
   "source": [
    "# a = 49             0011 0001\n",
    "print(a << 3)     #00110001000\n",
    "print(int('110001000', 2))"
   ]
  },
  {
   "cell_type": "code",
   "execution_count": null,
   "metadata": {},
   "outputs": [],
   "source": [
    "# a = 49            00110001\n",
    "\n",
    "print(a >> 1)     # 00011000\n",
    "print(int('00011000', 2))"
   ]
  },
  {
   "cell_type": "code",
   "execution_count": null,
   "metadata": {},
   "outputs": [],
   "source": [
    "# a = 49            00110001\n",
    "\n",
    "print(a >> 3)     # 0000 0110\n",
    "print(int('00000110', 2))"
   ]
  },
  {
   "cell_type": "markdown",
   "metadata": {},
   "source": [
    "### Exercise 1\n",
    "Write the result of following bitwise operation when :\n",
    "\n",
    "    a = 12\n",
    "    b = 15\n",
    "\n",
    "    a & b"
   ]
  },
  {
   "cell_type": "code",
   "execution_count": null,
   "metadata": {},
   "outputs": [],
   "source": [
    "# convert 12 in to a binary number\n"
   ]
  },
  {
   "cell_type": "code",
   "execution_count": null,
   "metadata": {},
   "outputs": [],
   "source": [
    "# convert 15 in to a binary number\n"
   ]
  },
  {
   "cell_type": "code",
   "execution_count": null,
   "metadata": {},
   "outputs": [],
   "source": [
    "# a & b\n",
    "\n"
   ]
  },
  {
   "cell_type": "markdown",
   "metadata": {},
   "source": [
    "### Conditional Statement"
   ]
  },
  {
   "cell_type": "markdown",
   "metadata": {},
   "source": [
    "#### IF Statement"
   ]
  },
  {
   "cell_type": "code",
   "execution_count": null,
   "metadata": {},
   "outputs": [],
   "source": [
    "age = 16\n",
    "if age >= 18 :\n",
    "    print(\"You may vote.\")\n",
    "    \n",
    "print(\"This code executes no matter what\")      "
   ]
  },
  {
   "cell_type": "code",
   "execution_count": null,
   "metadata": {},
   "outputs": [],
   "source": [
    "age = 9\n",
    "if age >= 18 :\n",
    "    print(\"You may vote.\")\n",
    "    print(\"I am here\")\n",
    "    \n",
    "print(\"This code executes no matter what\")      "
   ]
  },
  {
   "cell_type": "markdown",
   "metadata": {},
   "source": [
    "#### IF/ELSE Statement"
   ]
  },
  {
   "cell_type": "code",
   "execution_count": null,
   "metadata": {},
   "outputs": [],
   "source": [
    "age = 26\n",
    "if age >= 18 :\n",
    "    print(\"You may vote.\")\n",
    "else :\n",
    "    print(\"You are too young to vote.\")\n",
    "    print(f\"Come back in {18 - age} years\") \n",
    "    \n",
    "print(\"This code executes no matter what\")   "
   ]
  },
  {
   "cell_type": "code",
   "execution_count": null,
   "metadata": {},
   "outputs": [],
   "source": [
    "def check_age(age) :\n",
    "    if age >= 18 :\n",
    "        print(\"You may vote.\")\n",
    "    else :\n",
    "        print(\"You are too young to vote.\")\n",
    "        print(f\"Come back in {18 - age} years\") \n",
    "    "
   ]
  },
  {
   "cell_type": "code",
   "execution_count": null,
   "metadata": {},
   "outputs": [],
   "source": [
    "age = int(input(\"Enter your age: \"))\n",
    "check_age(age)\n",
    "print(\"Bye!\")"
   ]
  },
  {
   "cell_type": "code",
   "execution_count": null,
   "metadata": {},
   "outputs": [],
   "source": [
    "def check_score(arg) :\n",
    "    if arg >= 60 :\n",
    "        print(\"You passed\")\n",
    "    else :\n",
    "        print(\"You failed\")"
   ]
  },
  {
   "cell_type": "code",
   "execution_count": null,
   "metadata": {},
   "outputs": [],
   "source": [
    "score = int(input(\"Enter a score: \"))\n",
    "check_score(score)\n",
    "print(\"Bye!\")"
   ]
  },
  {
   "cell_type": "markdown",
   "metadata": {},
   "source": [
    "### Exercise 2\n",
    "<b>even_number</b> function returns boolean values:\n",
    "    \n",
    "        True if a number is an even number \n",
    "        False if a number is an odd number\n",
    "\n",
    "Then, in the main program, ask a user for a number and display whether the number is an <b>even</b> or <b>odd</b> number.\n",
    "\n",
    "Fix/modify code to show output something like this:\n",
    "\n",
    "        Enter a number: 10\n",
    "        10 is an even number.\n",
    "        \n",
    "        Enter a number: 11\n",
    "        11 is an odd number."
   ]
  },
  {
   "cell_type": "code",
   "execution_count": null,
   "metadata": {},
   "outputs": [],
   "source": [
    "define even-number(arg) \n",
    "    if (arg % 2) == 0 :\n",
    "        retval = true\n",
    "    else :\n",
    "        retval = false\n",
    "        \n",
    "    return arg    \n",
    "        "
   ]
  },
  {
   "cell_type": "code",
   "execution_count": null,
   "metadata": {},
   "outputs": [],
   "source": [
    "numb = input(\"Enter a number: \") \n",
    "\n",
    "if evennumber(numb) :    \n",
    "    print(f\"{numb} is an even number.\")\n",
    "else :\n",
    "    print(f\"{numb} is an odd number.\")\n",
    "    "
   ]
  },
  {
   "cell_type": "code",
   "execution_count": null,
   "metadata": {},
   "outputs": [],
   "source": []
  },
  {
   "cell_type": "code",
   "execution_count": null,
   "metadata": {},
   "outputs": [],
   "source": []
  },
  {
   "cell_type": "code",
   "execution_count": null,
   "metadata": {},
   "outputs": [],
   "source": []
  },
  {
   "cell_type": "markdown",
   "metadata": {},
   "source": [
    "#### IF/ELIF Statement"
   ]
  },
  {
   "cell_type": "code",
   "execution_count": null,
   "metadata": {},
   "outputs": [],
   "source": [
    "#light_color = \"green\"\n",
    "#light_color = \"yellow\"\n",
    "#light_color = \"red\"\n",
    "light_color = \"blue\"\n",
    "\n",
    "if light_color == \"green\" :\n",
    "    print(\"Go\")\n",
    "elif light_color == \"yellow\" :\n",
    "    print(\"Proceed with caution\")\n",
    "elif light_color == \"red\" :\n",
    "    print(\"Stop\")\n",
    "else :\n",
    "    print(\"Check your eyes\")\n",
    "    \n",
    "print(\"This code executes no matter what\")    "
   ]
  },
  {
   "cell_type": "code",
   "execution_count": null,
   "metadata": {},
   "outputs": [],
   "source": [
    "def traffic_light(color) :\n",
    "    print(f\"Light is {color}\", end=', ')\n",
    "    \n",
    "    if color == \"green\" :\n",
    "        print(\"go.\")\n",
    "    elif color == \"yellow\" :\n",
    "        print(\"proceed with caution.\")\n",
    "    elif color != \"red\" :\n",
    "        print(\"check your eyes.\")\n",
    "    else :\n",
    "        print(\"stop.\")"
   ]
  },
  {
   "cell_type": "code",
   "execution_count": null,
   "metadata": {},
   "outputs": [],
   "source": [
    "traffic_light(\"green\")     \n",
    "traffic_light(\"yellow\")        \n",
    "traffic_light(\"read\")    \n",
    "traffic_light(\"red\")         "
   ]
  },
  {
   "cell_type": "code",
   "execution_count": null,
   "metadata": {},
   "outputs": [],
   "source": [
    "def school(age) :\n",
    "    if age < 7 :\n",
    "        print(\"Kindergarten\")\n",
    "    else : \n",
    "        if age < 12 :\n",
    "            print (\"Elementary School\")\n",
    "        else :\n",
    "            if age < 15 :\n",
    "                print (\"Middle School\")\n",
    "            else :\n",
    "                if age < 19 :\n",
    "                    print(\"High School\")\n",
    "                else :\n",
    "                    print(\"Adult\")"
   ]
  },
  {
   "cell_type": "code",
   "execution_count": null,
   "metadata": {},
   "outputs": [],
   "source": [
    "school(6)\n",
    "school(26)\n",
    "school(12)\n",
    "school(16)"
   ]
  },
  {
   "cell_type": "code",
   "execution_count": null,
   "metadata": {},
   "outputs": [],
   "source": [
    "def school2(age) :\n",
    "    if age < 7 :\n",
    "        print(\"Kindergarten\")\n",
    "    elif age < 12 :\n",
    "        print (\"Elementary School\")\n",
    "    elif age < 15 :\n",
    "        print (\"Middle School\")\n",
    "    elif age < 19 :\n",
    "        print(\"High School\")\n",
    "    else :\n",
    "        print(\"Adult\")"
   ]
  },
  {
   "cell_type": "code",
   "execution_count": null,
   "metadata": {},
   "outputs": [],
   "source": [
    "school2(6)\n",
    "school2(26)\n",
    "school2(12)\n",
    "school2(16)"
   ]
  },
  {
   "cell_type": "markdown",
   "metadata": {},
   "source": [
    "### Exercise 3\n",
    "Your team is tasked to write a function to suggest a beverage based on an age. \n",
    "Your function will be called by a main program as written in below cell. \n",
    "\n",
    "After talking with a customer, you found out that:\n",
    "1. legal age for drinking is 21. \n",
    "2. options for beverage are beer, milk, and soda. \n",
    "\n",
    "\n",
    "Both function and main program contain syntax errors and logical error. Fix errors and run to show it works."
   ]
  },
  {
   "cell_type": "code",
   "execution_count": null,
   "metadata": {},
   "outputs": [],
   "source": [
    "# original \n",
    "\n",
    "def beverage(age) :\n",
    "    if age > 21 :\n",
    "        message = \"Have some beer.\"    \n",
    "\n",
    "    elseif age > 12 :\n",
    "        message = \"Have some soda.\"\n",
    "    else \n",
    "        message = \"Have some milk\"\n",
    "        \n",
    "     \n",
    "    \n",
    "    returns message    \n"
   ]
  },
  {
   "cell_type": "code",
   "execution_count": null,
   "metadata": {},
   "outputs": [],
   "source": [
    "# main program\n",
    "\n",
    "age = int(input(\"Enter age: \"))\n",
    "print(beverage(years))\n",
    "\n",
    "years = int(input(\"Enter age: \"))\n",
    "print(beverage(age))\n",
    "\n",
    "years = int(input(\"Enter age: \"))\n",
    "print(beverage(years))\n"
   ]
  },
  {
   "cell_type": "code",
   "execution_count": null,
   "metadata": {},
   "outputs": [],
   "source": []
  },
  {
   "cell_type": "code",
   "execution_count": null,
   "metadata": {},
   "outputs": [],
   "source": []
  }
 ],
 "metadata": {
  "kernelspec": {
   "display_name": "Python 3",
   "language": "python",
   "name": "python3"
  },
  "language_info": {
   "codemirror_mode": {
    "name": "ipython",
    "version": 3
   },
   "file_extension": ".py",
   "mimetype": "text/x-python",
   "name": "python",
   "nbconvert_exporter": "python",
   "pygments_lexer": "ipython3",
   "version": "3.7.6"
  }
 },
 "nbformat": 4,
 "nbformat_minor": 2
}
