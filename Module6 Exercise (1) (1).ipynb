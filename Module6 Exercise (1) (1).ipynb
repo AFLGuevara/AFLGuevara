{
 "cells": [
  {
   "cell_type": "markdown",
   "metadata": {},
   "source": [
    "### Exercise 1\n",
    "Convert following decimal number to a binary number by hand:\n",
    "\n",
    "    61\n",
    "    15\n",
    "    71\n",
    "    "
   ]
  },
  {
   "cell_type": "code",
   "execution_count": 4,
   "metadata": {},
   "outputs": [
    {
     "data": {
      "text/plain": [
       "71"
      ]
     },
     "execution_count": 4,
     "metadata": {},
     "output_type": "execute_result"
    }
   ],
   "source": [
    "0b000111101 = 61\n",
    " \n",
    "0b000010001 = 15\n",
    "\n",
    "0b01000111 = 71"
   ]
  },
  {
   "cell_type": "markdown",
   "metadata": {},
   "source": [
    "### Exercise 2\n",
    "When a = 61 and b = 15, what is the result of following bitwise opertion? Use inline comments to show your result in a binary number. Find your answer by hand.\n",
    "\n",
    "    a & b\n",
    "    a | b\n",
    "    a ^ b\n",
    "    a >> 2\n",
    "    "
   ]
  },
  {
   "cell_type": "code",
   "execution_count": 8,
   "metadata": {},
   "outputs": [
    {
     "data": {
      "text/plain": [
       "17"
      ]
     },
     "execution_count": 8,
     "metadata": {},
     "output_type": "execute_result"
    }
   ],
   "source": [
    "# convert a in to a binary number              \n",
    "0b000111101                    \n",
    "                                          \n",
    "\n",
    "\n",
    "# convert b in to a binary number\n",
    "0b000010001\n",
    "\n"
   ]
  },
  {
   "cell_type": "code",
   "execution_count": 10,
   "metadata": {},
   "outputs": [
    {
     "name": "stdout",
     "output_type": "stream",
     "text": [
      "13\n"
     ]
    }
   ],
   "source": [
    "# a & b\n",
    "a = 61 \n",
    "b = 15\n",
    "print(a&b)"
   ]
  },
  {
   "cell_type": "code",
   "execution_count": 11,
   "metadata": {},
   "outputs": [
    {
     "name": "stdout",
     "output_type": "stream",
     "text": [
      "63\n"
     ]
    }
   ],
   "source": [
    "# a | b\n",
    "print(a|b)"
   ]
  },
  {
   "cell_type": "code",
   "execution_count": 12,
   "metadata": {},
   "outputs": [
    {
     "name": "stdout",
     "output_type": "stream",
     "text": [
      "50\n"
     ]
    }
   ],
   "source": [
    "# a ^ b\n",
    "print(a^b)"
   ]
  },
  {
   "cell_type": "code",
   "execution_count": 13,
   "metadata": {},
   "outputs": [
    {
     "name": "stdout",
     "output_type": "stream",
     "text": [
      "0\n"
     ]
    }
   ],
   "source": [
    "# a >> 2\n",
    "print(a>>b)"
   ]
  },
  {
   "cell_type": "markdown",
   "metadata": {},
   "source": [
    "### Exercise 3\n",
    "Ask a user for a code and store that answer. \n",
    "If the answer is <b>grey</b> then print \"You found secret code.\"\n",
    "Otherwise print that the entered code is not the secret code."
   ]
  },
  {
   "cell_type": "code",
   "execution_count": 38,
   "metadata": {},
   "outputs": [
    {
     "name": "stdout",
     "output_type": "stream",
     "text": [
      "What's the secret code? grey\n",
      "You found the secret code!\n",
      "Bye!\n"
     ]
    }
   ],
   "source": [
    "code = input(\"What's the secret code? \")\n",
    "if code == \"grey\" :\n",
    "    print(\"You found the secret code!\")\n",
    "else :        \n",
    "    print(f\"{code} is not the secret code.\")\n",
    "    \n",
    "print(\"Bye!\")"
   ]
  },
  {
   "cell_type": "markdown",
   "metadata": {},
   "source": [
    "### Exercise 5\n",
    "Write a function to convert a test score to a grade where  \n",
    " - 90 - 100: A\n",
    " - 80 - 89:  B\n",
    " - 70 - 79:  C\n",
    " - 60 - 69:  D\n",
    " - < 60   :  F\n",
    " \n",
    "If a score is not between 0 and 100 then print out an error message. In the program, ask the user for a score and then call your function. "
   ]
  },
  {
   "cell_type": "code",
   "execution_count": 57,
   "metadata": {},
   "outputs": [],
   "source": [
    "def convert_to_grade(score) :\n",
    "    if score > 100 or score < 0 :\n",
    "        msg = \"Score must be between 0 and 100\"\n",
    "    elif score >= 90 :\n",
    "        msg = \"Grade is A\"\n",
    "    elif score >= 80 :\n",
    "        msg = \"Grade is B\"\n",
    "    elif score >= 70 :\n",
    "        msg = \"Grade is C\"\n",
    "    elif score >= 60 :\n",
    "        msg = \"Grade is D\"\n",
    "    else :\n",
    "        msg = \"Grade is F\"\n",
    "        \n",
    "    return msg"
   ]
  },
  {
   "cell_type": "code",
   "execution_count": 58,
   "metadata": {},
   "outputs": [
    {
     "name": "stdout",
     "output_type": "stream",
     "text": [
      "Please enter a test score: 90\n",
      "Grade is A\n",
      "Please enter a test score: 90\n",
      "Grade is A\n",
      "Please enter a test score: 90\n",
      "Grade is A\n",
      "Please enter a test score: 90\n",
      "Grade is A\n",
      "Please enter a test score: 90\n",
      "Grade is A\n"
     ]
    }
   ],
   "source": [
    "score = int(input(\"Please enter a test score: \"))    \n",
    "print(convert_to_grade(score)) \n",
    "score = int(input(\"Please enter a test score: \"))    \n",
    "print(convert_to_grade(score)) \n",
    "score = int(input(\"Please enter a test score: \"))    \n",
    "print(convert_to_grade(score)) \n",
    "score = int(input(\"Please enter a test score: \"))    \n",
    "print(convert_to_grade(score)) \n",
    "score = int(input(\"Please enter a test score: \"))    \n",
    "print(convert_to_grade(score)) "
   ]
  },
  {
   "cell_type": "code",
   "execution_count": null,
   "metadata": {},
   "outputs": [],
   "source": []
  }
 ],
 "metadata": {
  "kernelspec": {
   "display_name": "Python 3",
   "language": "python",
   "name": "python3"
  },
  "language_info": {
   "codemirror_mode": {
    "name": "ipython",
    "version": 3
   },
   "file_extension": ".py",
   "mimetype": "text/x-python",
   "name": "python",
   "nbconvert_exporter": "python",
   "pygments_lexer": "ipython3",
   "version": "3.8.8"
  }
 },
 "nbformat": 4,
 "nbformat_minor": 4
}
